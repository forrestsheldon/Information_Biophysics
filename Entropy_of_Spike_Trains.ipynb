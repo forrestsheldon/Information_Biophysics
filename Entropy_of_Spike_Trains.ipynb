{
 "metadata": {
  "name": "",
  "signature": "sha256:2d38413cd7441852e7e4a373c182559ab00af7c4e01c63b62e5bdbba55fcc1dc"
 },
 "nbformat": 3,
 "nbformat_minor": 0,
 "worksheets": [
  {
   "cells": [
    {
     "cell_type": "heading",
     "level": 1,
     "metadata": {},
     "source": [
      "Entropy of Spike Trains"
     ]
    },
    {
     "cell_type": "code",
     "collapsed": false,
     "input": [
      "%matplotlib inline"
     ],
     "language": "python",
     "metadata": {},
     "outputs": [],
     "prompt_number": 1
    },
    {
     "cell_type": "code",
     "collapsed": false,
     "input": [
      "import numpy as np\n",
      "import scipy as sp\n",
      "import matplotlib.pyplot as plt"
     ],
     "language": "python",
     "metadata": {},
     "outputs": [],
     "prompt_number": 2
    },
    {
     "cell_type": "markdown",
     "metadata": {},
     "source": [
      "The original analysis here was done by [MacKay and McCulloch](http://www.weizmann.ac.il/complex/tlusty/courses/InfoInBio/Papers/MacKayMcCulloch1952.pdf \"The Limiting Information Capacity of a Neural Link\") attempting to put bounds on the information conveyed by neural connections.  Other sources a quick search turned up:\n",
      "\n",
      "* [Azimuth](https://johncarlosbaez.wordpress.com/2012/07/14/the-mathematics-of-biodiversity-part-8/)\n",
      "\n",
      "* [Koch](http://www.google.com/url?sa=t&rct=j&q=&esrc=s&source=web&cd=1&cad=rja&uact=8&ved=0CB4QFjAA&url=http%3A%2F%2Fciteseerx.ist.psu.edu%2Fviewdoc%2Fdownload%3Fdoi%3D10.1.1.41.835%26rep%3Drep1%26type%3Dps&ei=hmTaVKScMYSuogSaw4HYCA&usg=AFQjCNFeI1bdamEPQM2lKEnf9g-1NUgP5g&sig2=dieWJrOdqZ1OndZjOOfnHQ)\n",
      "\n",
      "* [Bialek/Strong1](https://www.princeton.edu/~wbialek/our_papers/strong+al_98c.pdf)\n",
      "\n",
      "* [Bialek/Strong2](http://arxiv.org/pdf/cond-mat/9603127.pdf)"
     ]
    },
    {
     "cell_type": "heading",
     "level": 3,
     "metadata": {},
     "source": [
      "A Brief Summary"
     ]
    },
    {
     "cell_type": "markdown",
     "metadata": {},
     "source": [
      "The two main hypothesis in neural coding are:\n",
      "\n",
      "* Timing coding - Information is passed through the relative timing of spikes.\n",
      "\n",
      "* Rate coding - Information is carried by the rate of spiking of the neuron.\n",
      "\n",
      "We will show that spike timing carries more information and thus should be favored but it suffers from being difficult to decode.  I believe/am told the current ethos is that the brain uses both of these strategies in different situations and sometimes even a mixture of the two."
     ]
    },
    {
     "cell_type": "heading",
     "level": 3,
     "metadata": {},
     "source": [
      "The Set-up"
     ]
    },
    {
     "cell_type": "markdown",
     "metadata": {},
     "source": [
      "We discretize our time interval $T$ into bins of length $\\delta \\tau$.  If we take these bins short enough that only a single spike is contained ($\\Delta \\tau \\approx 1 \\text{msec}$ and we ignore refractory periods) a spike train can be translated into a binary string where a $1$ represents a spike and a $0$ represents no spike.  Throughout our analysis, we will examine neurons who have a mean spiking rate $\\bar{r}$."
     ]
    },
    {
     "cell_type": "heading",
     "level": 4,
     "metadata": {},
     "source": [
      "Timing Codes - A Poissonian Neuron"
     ]
    },
    {
     "cell_type": "markdown",
     "metadata": {},
     "source": [
      "Our problem is thus to examine strings of random variables of length $N = \\frac{T}{\\Delta \\tau}$ with alphabet $A={0,1}$.  The probability of a single spike is $p_{\\Delta \\tau}(1) = \\bar{r} \\Delta \\tau$ and the probability of no spikes is $p_{\\Delta \\tau}(0) = 1 - \\bar{r} \\Delta \\tau$.  The entropy of the set of possible spike trains is thus,\n",
      "$$ H = - \\frac{T}{\\Delta \\tau} \\left[ \\bar{r}\\Delta \\tau \\log_2 (\\bar{r} \\Delta \\tau) + (1 - \\bar{r}\\Delta \\tau )\\log_2 (1 - \\bar{r} \\Delta \\tau)\\right] $$\n",
      "which in the limit of rare spiking $\\bar{r}\\Delta \\tau \\ll 1$ becomes,\n",
      "$$H = \\bar{r}T\\left[\\frac{1 - \\ln (\\bar{r}\\Delta\\tau)}{\\ln 2}\\right]$$\n",
      "\n",
      "If we instead look at the entropy rate or the entropy per spike,\n",
      "$$H_{rate} = \\frac{H}{T} = \\bar{r}\\left[\\frac{1 - \\ln (\\bar{r}\\Delta\\tau)}{\\ln 2}\\right]\\\\\n",
      "H_{spike} = \\frac{H}{\\bar{r}T} = \\frac{1 - \\ln (\\bar{r}\\Delta\\tau)}{\\ln 2}$$\n",
      "we find that for a typical neuron firing at $\\bar{r} = 40\\text{spikes/sec}$ with $\\Delta\\tau = 3\\text{msec},$"
     ]
    },
    {
     "cell_type": "code",
     "collapsed": false,
     "input": [
      "def entropy_rate_poisson(mean_firing_rate, delta_t):\n",
      "    return mean_firing_rate * (1 - np.log(mean_firing_rate * delta_t)) / np.log(2)\n",
      "\n",
      "def entropy_spike_poisson(mean_firing_rate, delta_t):\n",
      "    return entropy_rate_poisson(mean_firing_rate, delta_t) / mean_firing_rate\n",
      "\n",
      "print \"The entropy rate of a typical poissonian neuron is %0.2f bits\" % (entropy_rate_poisson(40, 3e-3))\n",
      "print \"The entropy per spike is %0.2f bits/spike\" % (entropy_spike_poisson(40, 3e-3))"
     ],
     "language": "python",
     "metadata": {},
     "outputs": [
      {
       "output_type": "stream",
       "stream": "stdout",
       "text": [
        "The entropy rate of a typical poissonian neuron is 180.06 bits\n",
        "The entropy per spike is 4.50 bits/spike\n"
       ]
      }
     ],
     "prompt_number": 3
    },
    {
     "cell_type": "markdown",
     "metadata": {},
     "source": [
      "We can interpret our result as follows:\n",
      "For a poissonian process, the distribution for time between events is $p(\\tau) = \\bar(r)e^{-\\bar{r}\\tau}$ which is approximated by a uniform distribution of width $\\frac{1}{\\bar{r}}$.  Dividing this into bins of length $\\Delta\\tau$ we find that the entropy of picking a single bin for our spike is $\\log_2\\frac{1}{\\bar{r}\\Delta\\tau}$ so the dominant contribution to our entropy comes from picking the timing of the spike in a window of size $\\frac{1}{\\bar{r}}$.\n",
      "\n",
      "As a remark on the use of the Asymptotic Equipartition Property:\n",
      "\n",
      "For a $100$msec window, the entropy of the spike train will be about $18$bits.  The AEP then tells us that all of the probability in the spike train distribution will lie in $2^H \\approx 2.6\\times 10^5 \\ll 2^{T/\\Delta\\tau} \\approx 8.6\\times 10^9$ and that the probability of the typical spike trains is $P(typical)\\approx 2^{-18}$.\n",
      "\n"
     ]
    },
    {
     "cell_type": "heading",
     "level": 4,
     "metadata": {},
     "source": [
      "Bin size Dependence and Approximation"
     ]
    },
    {
     "cell_type": "code",
     "collapsed": false,
     "input": [
      "bin_size = np.linspace(0, 0.02, 1000)\n",
      "\n",
      "def full_entropy_spike(mean_firing_rate, delta_t):\n",
      "    p = mean_firing_rate * delta_t\n",
      "    return -1 / p * (p* np.log2(p) + (1-p) * np.log2(1-p))\n",
      "\n",
      "fig, ax = plt.subplots(figsize = (8,6))\n",
      "ax.plot(bin_size, entropy_spike_poisson(40, bin_size), label='Poisson')\n",
      "ax.plot(bin_size, full_entropy_spike(40, bin_size), label='Full')\n",
      "ax.set_xlim(0, 0.02)\n",
      "ax.set_ylim(0, 12)\n",
      "ax.set_title(\"Entropy per spike as a function of bin size\" )\n",
      "ax.set_xlabel(r'$\\Delta\\tau$')\n",
      "ax.set_ylabel(r'$\\frac{H}{spike}$', rotation=0, size=15)"
     ],
     "language": "python",
     "metadata": {},
     "outputs": [
      {
       "metadata": {},
       "output_type": "pyout",
       "prompt_number": 14,
       "text": [
        "<matplotlib.text.Text at 0x364fbd0>"
       ]
      },
      {
       "metadata": {},
       "output_type": "display_data",
       "png": "[encoded data removed]",
       "text": [
        "<matplotlib.figure.Figure at 0x2d27750>"
       ]
      }
     ],
     "prompt_number": 14
    },
    {
     "cell_type": "heading",
     "level": 3,
     "metadata": {},
     "source": [
      "Optimality - Wait time distribution and correlations"
     ]
    },
    {
     "cell_type": "markdown",
     "metadata": {},
     "source": [
      "We would also expect that introducing any correlations between spikes will decrease the entropy/spike which implies the inequality\n",
      "$$H_{corr} \\le H_{uncorr}.$$\n",
      "The model we have used, being the \"most random\" for a given spiking rate, should in fact give the largest entropy possible.  To show this, we work with the wait time distibution $p(\\tau)$ where $\\tau$ is the time to the next spike.  For the poisson process we have been working with,\n",
      "$$p(n\\Delta\\tau) = (1 - \\bar{r}\\Delta\\tau)^n\\bar{r}\\Delta\\tau$$\n",
      "which in the limit $\\Delta\\tau \\to 0$ holding $n\\Delta\\tau = \\tau$ fixed becomes\n",
      "$$\\lim_{\\Delta\\tau \\to 0} (1 - \\bar{r}\\Delta\\tau)^n\\bar{r}\\Delta\\tau = \\bar{r}e^{-\\bar{r}T}d\\tau$$ and this wait time distribution should give a maximum entropy.  To prove this, we vary the lagrangian for the wait time distribution with normalization and spike,\n",
      "$$L = -\\int p(\\tau)d\\tau\\, \\log_2 (p(\\tau)\\Delta\\tau) + \\alpha(\\int p(\\tau)d\\tau - 1) + \\beta (\\int \\tau p(\\tau)d\\tau - \\frac{1}{\\bar{r}}).$$\n",
      "A variation in this yields the poisson wait time distribution above and plugging into the entropy gives us the formula we obtained previously, which we can now legitmately claim is the maximum entropy/spike,\n",
      "$$\\left.H_{spike}\\right|_{max} = \\frac{1 - \\ln (\\bar{r}\\Delta\\tau)}{\\ln 2}$$"
     ]
    },
    {
     "cell_type": "heading",
     "level": 3,
     "metadata": {},
     "source": [
      "Rate vs. Time Coding"
     ]
    },
    {
     "cell_type": "markdown",
     "metadata": {},
     "source": [
      "Suppose our observable is instead,  \n",
      "$n \\equiv$ the number of spikes in a time window $\\Delta\\tau$  \n",
      "The entropy of the $p(n)$ distribution is then  \n",
      "$$H = -\\sum_{n=0}^\\infty p(n) \\log_2 p(n)$$\n",
      "To get at the maximum entropy, we again vary\n",
      "$$L = -\\sum_{n=0}^\\infty p(n) \\log_2 p(n) + \\alpha(\\sum_{n=0}^\\infty p(n) - 1) + \\beta (\\sum_{n=0}^\\infty np(n) - \\bar{n})$$\n",
      "where $\\bar{n} = \\bar{r}\\Delta\\tau$ and find,\n",
      "$$p(n) = \\frac{\\bar{n}}{(1+\\bar{n})^{n+1}}\\\\\n",
      "H_{spike} = \\frac{H}{\\bar{n}} = \\frac{\\log_2(1+\\bar{n})}{\\bar{n}} + \\log_2(1 + \\frac{1}{\\bar{n}}) = \\frac{\\log_2(1+\\bar{r}\\Delta\\tau)}{\\bar{r}\\Delta\\tau} + \\log_2(1 + \\frac{1}{\\bar{r}\\Delta\\tau})$$\n",
      "In the limit of long time window, we expect the information carried by each spike to go to zero, and indeed,\n",
      "$$\\lim_{\\tau\\to\\infty} H_{spike} = 0$$\n",
      "and in the limit of short time window, this should proceed to our maximum value from the timing code,\n",
      "$$\\lim_{\\tau\\to 0} H_{spike} = \\frac{1 - \\ln (\\bar{r}\\Delta\\tau)}{\\ln 2}$$\n",
      "\n",
      "For rate coding, if we are examining the spike train in $100$msec intervals with a spiking rate of $40$spikes/sec, the entropy of this code will be"
     ]
    },
    {
     "cell_type": "code",
     "collapsed": false,
     "input": [
      "def entropy_spike_ratecode(mean_firing_rate, delta_t):\n",
      "    n_bar = mean_firing_rate * delta_t\n",
      "    return np.log2(1 + n_bar) / n_bar + np.log2(1 + 1 / n_bar)\n",
      "\n",
      "print \"The entropy rate of a rate code with a 100ms window is %0.2f\" % (40*.1*entropy_spike_ratecode(40, .1))\n",
      "print \"The entropy per spike of a rate code with a 100ms window is %0.2f\" % (entropy_spike_ratecode(40, .1))"
     ],
     "language": "python",
     "metadata": {},
     "outputs": [
      {
       "output_type": "stream",
       "stream": "stdout",
       "text": [
        "The entropy rate of a rate code with a 100ms window is 3.61\n",
        "The entropy per spike of a rate code with a 100ms window is 0.90\n"
       ]
      }
     ],
     "prompt_number": 13
    },
    {
     "cell_type": "markdown",
     "metadata": {},
     "source": [
      "This is much less than the 18bits and 4.5bits/spike of the timing code above.  Note that if we consider very short windows on the order of those used in our timing code previously, the entropy per spike of this formula will exceed that of the timing code.  As the probability of coincident spikes in a window goes to zero, the two codes will be identical but over any finite window with some chance of coincidence, the rate code will have a higher entropy as at that point it's just a timing code with a larger alphabet."
     ]
    },
    {
     "cell_type": "code",
     "collapsed": false,
     "input": [],
     "language": "python",
     "metadata": {},
     "outputs": []
    }
   ],
   "metadata": {}
  }
 ]
}