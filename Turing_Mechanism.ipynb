{
 "metadata": {
  "name": "",
  "signature": "sha256:d528b0765960f8d604c08900666572c6e3c7a410761445230ee7f05edf0c6bd7"
 },
 "nbformat": 3,
 "nbformat_minor": 0,
 "worksheets": [
  {
   "cells": [
    {
     "cell_type": "heading",
     "level": 1,
     "metadata": {},
     "source": [
      "The Turing Mechanism"
     ]
    },
    {
     "cell_type": "code",
     "collapsed": false,
     "input": [
      "%matplotlib inline"
     ],
     "language": "python",
     "metadata": {},
     "outputs": [],
     "prompt_number": 1
    },
    {
     "cell_type": "code",
     "collapsed": false,
     "input": [
      "import numpy as np\n",
      "import scipy as sp\n",
      "import matplotlib.pyplot as plt"
     ],
     "language": "python",
     "metadata": {},
     "outputs": [],
     "prompt_number": 2
    },
    {
     "cell_type": "heading",
     "level": 4,
     "metadata": {},
     "source": [
      "A few Sources"
     ]
    },
    {
     "cell_type": "markdown",
     "metadata": {},
     "source": [
      "* [Turing's Original Paper](http://www.dna.caltech.edu/courses/cs191/paperscs191/turing.pdf)\n",
      "\n",
      "* [A recent test (not sure how relevant this is but it's recent)](http://www.pnas.org/content/111/12/4397.abstract)\n",
      "\n",
      "* [Murray, Mathematical Biology, Volume II](http://pcleon.if.ufrgs.br/pub/listas-sistdin/MurrayII.pdf)"
     ]
    },
    {
     "cell_type": "heading",
     "level": 3,
     "metadata": {},
     "source": [
      "The Basic Idea"
     ]
    },
    {
     "cell_type": "markdown",
     "metadata": {},
     "source": [
      "Turing, in the early 50s, before even the discovery of DNA was thinking about morphogenesis, or how cells differentiate in developing organisms.  In considering this phenomenon he proposed a mechanism by which systems could organize and create patterns."
     ]
    }
   ],
   "metadata": {}
  }
 ]
}